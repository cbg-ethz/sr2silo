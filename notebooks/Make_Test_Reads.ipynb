{
 "cells": [
  {
   "cell_type": "markdown",
   "id": "1e1f6001",
   "metadata": {},
   "source": [
    "# Making test data for the test suite\n",
    "\n",
    "**Goal:** Make a test bam file and a test vcf file for the test suite. And compsoe a json as SILO requires it after."
   ]
  },
  {
   "cell_type": "markdown",
   "id": "bf08b979",
   "metadata": {},
   "source": [
    "Here is the raw data we will use to create the test data:"
   ]
  },
  {
   "cell_type": "code",
   "execution_count": null,
   "id": "9f61974f",
   "metadata": {},
   "outputs": [
    {
     "data": {
      "text/plain": [
       "'\\nCoor  12345678901234 5678901234567890123456789012345\\nref   AGCATGTATAAAGATA*CGTCTGTAGCCCTCGCCCAT\\n\\n+r001/1  TTAGATAAAGGATA*CTG\\n+r002     aaaAGATAA*GGATA\\n+r003     gcctAAGCTAA\\n+r004              ATAGCT...........TCAGC\\n-r003                    ttagctTAGGC\\n-r001/2                           CAGCCGCAT\\n'"
      ]
     },
     "execution_count": 1,
     "metadata": {},
     "output_type": "execute_result"
    }
   ],
   "source": [
    "\"\"\"\n",
    "Coor  12345678901234 *5678901234567890123456789012345\n",
    "ref   AGCATGTTAGATAA**GATAGCTGTGCTAGTAGGCAGTCAGCGCCAT\n",
    "              AAAAGA\n",
    "+r001/1     TTAGATAAAGGATA*CTG\n",
    "+r002      aaaAGATAA*GGATA\n",
    "+r003    gcctaAGCTAA\n",
    "+r004                  ATAGCT..............TCAGC\n",
    "-r003                         ttagctTAGGC\n",
    "-r001/2                                     CAGCGGCAT\n",
    "\"\"\""
   ]
  },
  {
   "cell_type": "code",
   "execution_count": null,
   "id": "5cd3ccc3",
   "metadata": {},
   "outputs": [
    {
     "data": {
      "text/plain": [
       "'\\n@HD VN:1.6 SO:coordinate\\n@SQ SN:ref LN:45\\nr001 99 ref 7 30 8M2I4M1D3M * 37 39 TTAGATAAAGGATA*CTG *\\nr002 0 ref 9 30 3S6M1P1I4M * 0 0 AAAAGATAA*GGATA * SA:Z:ref,29,-,6H5M,17,0;\\nr003 0 ref 9 30 5S6M * 0 0 GCCTAAGCTAA *\\nr004 2064 ref 16 30 6M14N5M * 0 0 ATAGCTTCAGC *\\nr003 2064 ref 29 17 6H5M * 0 0 TAGGC * SA:Z:ref,9,+,5S6M,30,1;\\nr001 147 ref 37 30 9M * 7 -39 CAGCCGCAT * NM:i:1\\n'"
      ]
     },
     "execution_count": 3,
     "metadata": {},
     "output_type": "execute_result"
    }
   ],
   "source": [
    "\"\"\"\n",
    "@HD VN:1.6 SO:coordinate\n",
    "@SQ SN:ref LN:45\n",
    "r001    99 ref  7 30 8M2I4M1D3M * 37  39 TTAGATAAAGGATACTG *\n",
    "r002     0 ref  9 30 3S6M1P1I4M *  0   0 AAAAGATAAGGATA     * SA:Z:ref,29,-,6H5M,17,0;\n",
    "r003     0 ref  9 30 5S6M       *  0   0 GCCTAAGCTAA        *\n",
    "r004  2064 ref 16 30 6M14N5M    *  0   0 ATAGCTTCAGC        *\n",
    "r003  2064 ref 29 17 6H5M       *  0   0 TAGGC              * SA:Z:ref,9,+,5S6M,30,1;\n",
    "r001   147 ref 37 30 9M         *  7 -39 CAGCGGCAT          * NM:i:1\n",
    "\"\"\""
   ]
  },
  {
   "cell_type": "code",
   "execution_count": 4,
   "id": "f411f04e",
   "metadata": {},
   "outputs": [],
   "source": [
    "import pysam"
   ]
  },
  {
   "cell_type": "code",
   "execution_count": 78,
   "id": "975488e1",
   "metadata": {},
   "outputs": [],
   "source": [
    "# lets create a sam file out of the above\n",
    "with open(\"test.sam\", \"w\") as f:\n",
    "    f.write(\n",
    "        \"\"\"@HD VN:1.6 SO:coordinate\n",
    "@SQ SN:ref LN:45\n",
    "r001    99  ref 7 30    8M2I4M1D3M = 37  39 TTAGATAAAGGATACTG   *\n",
    "r002    0   ref 9 30    3S6M1P1I4M *  0   0 AAAAGATAAGGATA  * SA:Z:ref,29,-,6H5M,17,0;\n",
    "r003    0   ref 9 30    5S6M       *  0   0 GCCTAAGCTAA *\n",
    "r004    2064    ref 16  30 6M14N5M    *  0   0 ATAGCTTCAGC  *\n",
    "r003    2064    ref 29  17 6H5M       *  0   0 TAGGC    * SA:Z:ref,9,+,5S6M,30,1;\n",
    "r001    147 ref 37  30 9M         =  7 -39 CAGCGGCAT    * NM:i:1\n",
    "\"\"\"\n",
    "    )\n",
    "\n",
    "tmpfilename = \"test.bam\"\n",
    "\n",
    "header = {\n",
    "    \"HD\": {\"VN\": \"1.6\", \"SO\": \"coordinate\"},\n",
    "    \"SQ\": [{\"SN\": \"ref\", \"LN\": 45}],\n",
    "}\n",
    "\n",
    "with pysam.AlignmentFile(tmpfilename, \"wb\", header=header) as outf:\n",
    "    a = pysam.AlignedSegment()\n",
    "    a.query_name = \"r001\"\n",
    "    a.query_sequence = \"TTAGATAAAGGATACTG\"\n",
    "    a.flag = 99\n",
    "    a.reference_id = 0\n",
    "    a.reference_start = 7\n",
    "    a.mapping_quality = 30\n",
    "    a.cigar = [(0, 8), (1, 2), (0, 4), (2, 1), (0, 3)]  # Fixed CIGAR: 8M2I4M1D3M\n",
    "    a.next_reference_id = 0\n",
    "    a.next_reference_start = 37\n",
    "    a.template_length = 39\n",
    "    a.query_qualities = [0] * 17\n",
    "    a.tags = []\n",
    "    outf.write(a)\n",
    "\n",
    "    b = pysam.AlignedSegment()\n",
    "    b.query_name = \"r002\"\n",
    "    b.query_sequence = \"AAAAGATAAGGATA\"\n",
    "    b.flag = 0\n",
    "    b.reference_id = 0\n",
    "    b.reference_start = 9\n",
    "    b.mapping_quality = 30\n",
    "    b.cigar = [(4, 3), (0, 6), (1, 1), (4, 4)]\n",
    "    b.next_reference_id = 0\n",
    "    b.next_reference_start = 0\n",
    "    b.template_length = 0\n",
    "    b.query_qualities = [0] * 14\n",
    "    outf.write(b)\n",
    "\n",
    "    c = pysam.AlignedSegment()\n",
    "    c.query_name = \"r003\"\n",
    "    c.query_sequence = \"GCCTAAGCTAA\"\n",
    "    c.flag = 0\n",
    "    c.reference_id = 0\n",
    "    c.reference_start = 9\n",
    "    c.mapping_quality = 30\n",
    "    c.cigar = [(4, 5), (0, 6)]\n",
    "    c.next_reference_id = 0\n",
    "    c.next_reference_start = 0\n",
    "    c.template_length = 0\n",
    "    c.query_qualities = [0] * 11\n",
    "    outf.write(c)\n",
    "\n",
    "    d = pysam.AlignedSegment()\n",
    "    d.query_name = \"r004\"\n",
    "    d.query_sequence = \"ATAGCTTCAGC\"\n",
    "    d.flag = 2064\n",
    "    d.reference_id = 0\n",
    "    d.reference_start = 16\n",
    "    d.mapping_quality = 30\n",
    "    d.cigar = [(0, 6), (3, 14), (0, 5)]\n",
    "    d.next_reference_id = 0\n",
    "    d.next_reference_start = 0\n",
    "    d.template_length = 0\n",
    "    d.query_qualities = [0] * 11\n",
    "    outf.write(d)\n",
    "\n",
    "    e = pysam.AlignedSegment()\n",
    "    e.query_name = \"r003\"\n",
    "    e.query_sequence = \"TAGGC\"\n",
    "    e.flag = 2064\n",
    "    e.reference_id = 0\n",
    "    e.reference_start = 29\n",
    "    e.mapping_quality = 17\n",
    "    e.cigar = [(5, 6), (0, 5)]\n",
    "    e.next_reference_id = 0\n",
    "    e.next_reference_start = 0\n",
    "    e.template_length = 0\n",
    "    e.query_qualities = [0] * 5\n",
    "    e.tags = [(\"SA\", \"Z:ref,9,+,5S6M,30,1\")]\n",
    "    outf.write(e)\n",
    "\n",
    "    f = pysam.AlignedSegment()\n",
    "    f.query_name = \"r001\"\n",
    "    f.query_sequence = \"CAGCGGCAT\"\n",
    "    f.flag = 147\n",
    "    f.reference_id = 0\n",
    "    f.reference_start = 37\n",
    "    f.mapping_quality = 30\n",
    "    f.cigar = [(0, 9)]\n",
    "    f.next_reference_id = 0\n",
    "    f.next_reference_start = 7\n",
    "    f.template_length = -39\n",
    "    f.query_qualities = [0] * 9\n",
    "    f.tags = [(\"NM\", \"i:1\")]\n",
    "    outf.write(f)\n",
    "\n",
    "# close the file\n",
    "outf.close()\n",
    "\n",
    "\n",
    "\n"
   ]
  },
  {
   "cell_type": "code",
   "execution_count": 79,
   "id": "d6a6506c",
   "metadata": {},
   "outputs": [],
   "source": [
    "index = pysam.index(tmpfilename)"
   ]
  },
  {
   "cell_type": "code",
   "execution_count": 63,
   "id": "286913fa",
   "metadata": {},
   "outputs": [
    {
     "name": "stdout",
     "output_type": "stream",
     "text": [
      "r001 TTAGATAAAGGATACTG array('B', [0, 0, 0, 0, 0, 0, 0, 0, 0, 0, 0, 0, 0, 0, 0, 0, 0]) 99 0 7 30 8M2I4M1D3M 0 37 39\n",
      "tags: []\n",
      "query_qualities: array('B', [0, 0, 0, 0, 0, 0, 0, 0, 0, 0, 0, 0, 0, 0, 0, 0, 0])\n",
      "query_length: 17\n",
      "query_alignment_length: 17\n",
      "query_alignment_start: 0\n",
      "query_alignment_end: 17\n",
      "reference_length: 16\n",
      "reference_start: 7\n",
      "reference_end: 23\n",
      "r002 AAAAGATAAGGATA array('B', [0, 0, 0, 0, 0, 0, 0, 0, 0, 0, 0, 0, 0, 0]) 0 0 9 30 3S6M1I4S 0 0 0\n",
      "tags: []\n",
      "query_qualities: array('B', [0, 0, 0, 0, 0, 0, 0, 0, 0, 0, 0, 0, 0, 0])\n",
      "query_length: 14\n",
      "query_alignment_length: 7\n",
      "query_alignment_start: 3\n",
      "query_alignment_end: 10\n",
      "reference_length: 6\n",
      "reference_start: 9\n",
      "reference_end: 15\n"
     ]
    }
   ],
   "source": [
    "# read in bam and print out the reads\n",
    "with pysam.AlignmentFile(tmpfilename, \"rb\") as f:\n",
    "    for read in f.fetch():\n",
    "        print(\n",
    "            read.query_name,\n",
    "            read.query_sequence,\n",
    "            read.query_qualities,\n",
    "            read.flag,\n",
    "            read.reference_id,\n",
    "            read.reference_start,\n",
    "            read.mapping_quality,\n",
    "            read.cigarstring,\n",
    "            read.next_reference_id,\n",
    "            read.next_reference_start,\n",
    "            read.template_length,\n",
    "        )\n",
    "        print(\"tags:\", read.tags)\n",
    "        print(\"query_qualities:\", read.query_qualities)\n",
    "        print(\"query_length:\", read.query_length)\n",
    "        print(\"query_alignment_length:\", read.query_alignment_length)\n",
    "        print(\"query_alignment_start:\", read.query_alignment_start)\n",
    "        print(\"query_alignment_end:\", read.query_alignment_end)\n",
    "        print(\"reference_length:\", read.reference_length)\n",
    "        print(\"reference_start:\", read.reference_start)\n",
    "        print(\"reference_end:\", read.reference_end)\n",
    "\n"
   ]
  }
 ],
 "metadata": {
  "kernelspec": {
   "display_name": "sr2silo-dev",
   "language": "python",
   "name": "python3"
  },
  "language_info": {
   "codemirror_mode": {
    "name": "ipython",
    "version": 3
   },
   "file_extension": ".py",
   "mimetype": "text/x-python",
   "name": "python",
   "nbconvert_exporter": "python",
   "pygments_lexer": "ipython3",
   "version": "3.12.9"
  }
 },
 "nbformat": 4,
 "nbformat_minor": 5
}
